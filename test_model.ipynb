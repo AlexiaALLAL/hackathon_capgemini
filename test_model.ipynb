{
 "cells": [
  {
   "cell_type": "code",
   "execution_count": null,
   "metadata": {},
   "outputs": [],
   "source": [
    "from baseline.train import train_model\n",
    "from pathlib import Path\n",
    "import torch\n",
    "\n",
    "model = train_model(\n",
    "        data_folder=Path(\n",
    "            \"/Users/alexi/Documents/mines/S5/idsc/capgemini challenge/DATA-mini/DATA-mini\"\n",
    "        ),\n",
    "        nb_classes=20,\n",
    "        input_channels=10,\n",
    "        num_epochs=100,\n",
    "        batch_size=32,\n",
    "        learning_rate=1e-3,\n",
    "        # device=\"mps\",\n",
    "        device=\"cuda\" if torch.cuda.is_available() else \"cpu\",\n",
    "        verbose=False,\n",
    "    )\n",
    "    \n",
    "torch.save(model.state_dict(), \"model.pth\")"
   ]
  },
  {
   "cell_type": "code",
   "execution_count": 3,
   "metadata": {},
   "outputs": [],
   "source": [
    "# load model\n",
    "model = torch.load(\"model.pth\")"
   ]
  },
  {
   "cell_type": "code",
   "execution_count": null,
   "metadata": {},
   "outputs": [],
   "source": []
  }
 ],
 "metadata": {
  "kernelspec": {
   "display_name": "env_challenge",
   "language": "python",
   "name": "python3"
  },
  "language_info": {
   "codemirror_mode": {
    "name": "ipython",
    "version": 3
   },
   "file_extension": ".py",
   "mimetype": "text/x-python",
   "name": "python",
   "nbconvert_exporter": "python",
   "pygments_lexer": "ipython3",
   "version": "3.12.7"
  }
 },
 "nbformat": 4,
 "nbformat_minor": 2
}
